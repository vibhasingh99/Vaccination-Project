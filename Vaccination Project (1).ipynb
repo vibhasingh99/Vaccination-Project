{
 "cells": [
  {
   "cell_type": "code",
   "execution_count": 1,
   "id": "69eecc15-30a4-4664-b16c-9af671f5799b",
   "metadata": {},
   "outputs": [
    {
     "name": "stdout",
     "output_type": "stream",
     "text": [
      "Defaulting to user installation because normal site-packages is not writeable\n",
      "Requirement already satisfied: pandas in c:\\programdata\\anaconda3\\lib\\site-packages (2.2.2)\n",
      "Requirement already satisfied: numpy in c:\\programdata\\anaconda3\\lib\\site-packages (1.26.4)\n",
      "Requirement already satisfied: sqlalchemy in c:\\programdata\\anaconda3\\lib\\site-packages (2.0.30)\n",
      "Requirement already satisfied: matplotlib in c:\\programdata\\anaconda3\\lib\\site-packages (3.8.4)\n",
      "Requirement already satisfied: openpyxl in c:\\programdata\\anaconda3\\lib\\site-packages (3.1.2)\n",
      "Requirement already satisfied: psycopg2-binary in c:\\users\\admin\\appdata\\roaming\\python\\python312\\site-packages (2.9.10)\n",
      "Requirement already satisfied: python-dateutil>=2.8.2 in c:\\programdata\\anaconda3\\lib\\site-packages (from pandas) (2.9.0.post0)\n",
      "Requirement already satisfied: pytz>=2020.1 in c:\\programdata\\anaconda3\\lib\\site-packages (from pandas) (2024.1)\n",
      "Requirement already satisfied: tzdata>=2022.7 in c:\\programdata\\anaconda3\\lib\\site-packages (from pandas) (2023.3)\n",
      "Requirement already satisfied: typing-extensions>=4.6.0 in c:\\programdata\\anaconda3\\lib\\site-packages (from sqlalchemy) (4.11.0)\n",
      "Requirement already satisfied: greenlet!=0.4.17 in c:\\programdata\\anaconda3\\lib\\site-packages (from sqlalchemy) (3.0.1)\n",
      "Requirement already satisfied: contourpy>=1.0.1 in c:\\programdata\\anaconda3\\lib\\site-packages (from matplotlib) (1.2.0)\n",
      "Requirement already satisfied: cycler>=0.10 in c:\\programdata\\anaconda3\\lib\\site-packages (from matplotlib) (0.11.0)\n",
      "Requirement already satisfied: fonttools>=4.22.0 in c:\\programdata\\anaconda3\\lib\\site-packages (from matplotlib) (4.51.0)\n",
      "Requirement already satisfied: kiwisolver>=1.3.1 in c:\\programdata\\anaconda3\\lib\\site-packages (from matplotlib) (1.4.4)\n",
      "Requirement already satisfied: packaging>=20.0 in c:\\programdata\\anaconda3\\lib\\site-packages (from matplotlib) (23.2)\n",
      "Requirement already satisfied: pillow>=8 in c:\\programdata\\anaconda3\\lib\\site-packages (from matplotlib) (10.3.0)\n",
      "Requirement already satisfied: pyparsing>=2.3.1 in c:\\programdata\\anaconda3\\lib\\site-packages (from matplotlib) (3.0.9)\n",
      "Requirement already satisfied: et-xmlfile in c:\\programdata\\anaconda3\\lib\\site-packages (from openpyxl) (1.1.0)\n",
      "Requirement already satisfied: six>=1.5 in c:\\programdata\\anaconda3\\lib\\site-packages (from python-dateutil>=2.8.2->pandas) (1.16.0)\n"
     ]
    }
   ],
   "source": [
    "!pip install pandas numpy sqlalchemy matplotlib openpyxl psycopg2-binary"
   ]
  },
  {
   "cell_type": "code",
   "execution_count": 2,
   "id": "a3963069-771e-4e67-a5a5-f7c8556431aa",
   "metadata": {},
   "outputs": [
    {
     "name": "stdout",
     "output_type": "stream",
     "text": [
      "Created: D:\\Vaccination Project\\Vaccination project\\data\n",
      "Created: D:\\Vaccination Project\\Vaccination project\\outputs\n",
      "Created: D:\\Vaccination Project\\Vaccination project\\scripts\n"
     ]
    }
   ],
   "source": [
    "import os\n",
    "\n",
    "BASE = r\"D:\\Vaccination Project\\Vaccination project\"\n",
    "folders = [\"data\", \"outputs\", \"scripts\"]\n",
    "\n",
    "for f in folders:\n",
    "    path = os.path.join(BASE, f)\n",
    "    os.makedirs(path, exist_ok=True)\n",
    "    print(\"Created:\", path)"
   ]
  },
  {
   "cell_type": "code",
   "execution_count": 8,
   "id": "da3d6240-cb15-4723-be8d-530ed7a28e77",
   "metadata": {},
   "outputs": [
    {
     "name": "stdout",
     "output_type": "stream",
     "text": [
      "Vaccination project/\n",
      "    data/\n",
      "        coverage-data.xlsx\n",
      "        incidence-rate-data.xlsx\n",
      "        reported-cases-data.xlsx\n",
      "        vaccine-introduction-data.xlsx\n",
      "        vaccine-schedule-data.xlsx\n",
      "    outputs/\n",
      "        coverage_clean.csv\n",
      "        incidence_clean.csv\n",
      "        reported_clean.csv\n",
      "        vaccine_intro_clean.csv\n",
      "        vaccine_schedule_clean.csv\n",
      "    scripts/\n"
     ]
    }
   ],
   "source": [
    "for root, dirs, files in os.walk(BASE):\n",
    "    level = root.replace(BASE, \"\").count(os.sep)\n",
    "    indent = \" \" * 4 * level\n",
    "    print(f\"{indent}{os.path.basename(root)}/\")\n",
    "    subindent = \" \" * 4 * (level + 1)\n",
    "    for f in files:\n",
    "        print(f\"{subindent}{f}\")"
   ]
  },
  {
   "cell_type": "code",
   "execution_count": 9,
   "id": "1321c1f2-38ab-49d4-9124-dfe1e0b7bba3",
   "metadata": {},
   "outputs": [],
   "source": [
    "import pandas as pd\n",
    "import numpy as np\n",
    "import re\n",
    "\n",
    "DATA = os.path.join(BASE, \"data\")\n",
    "OUT = os.path.join(BASE, \"outputs\")\n",
    "\n",
    "FILES = {\n",
    "    \"coverage\": os.path.join(DATA, \"coverage-data.xlsx\"),\n",
    "    \"incidence\": os.path.join(DATA, \"incidence-rate-data.xlsx\"),\n",
    "    \"reported\": os.path.join(DATA, \"reported-cases-data.xlsx\"),\n",
    "    \"intro\": os.path.join(DATA, \"vaccine-introduction-data.xlsx\"),\n",
    "    \"schedule\": os.path.join(DATA, \"vaccine-schedule-data.xlsx\"),\n",
    "}"
   ]
  },
  {
   "cell_type": "code",
   "execution_count": 10,
   "id": "8320d079-c6b6-4c47-947c-e629604c25e8",
   "metadata": {},
   "outputs": [],
   "source": [
    "def snake(s: str) -> str:\n",
    "    s = re.sub(r\"\\s+\", \"_\", s.strip())\n",
    "    s = re.sub(r\"[^0-9a-zA-Z_]+\", \"_\", s)\n",
    "    s = re.sub(r\"_+\", \"_\", s).strip(\"_\")\n",
    "    return s.lower()\n",
    "\n",
    "def read_first_sheet(path: str) -> pd.DataFrame:\n",
    "    df = pd.read_excel(path, sheet_name=0, engine=\"openpyxl\")\n",
    "    df.columns = [snake(str(c)) for c in df.columns]\n",
    "    return df\n",
    "\n",
    "def as_int(series):\n",
    "    return pd.to_numeric(series, errors=\"coerce\").astype(\"Int64\")\n",
    "\n",
    "def as_num(series):\n",
    "    return pd.to_numeric(series, errors=\"coerce\")\n",
    "\n",
    "def map_columns(df, mapping):\n",
    "    df = df.copy()\n",
    "    for target, opts in mapping.items():\n",
    "        for opt in opts:\n",
    "            if opt in df.columns and target not in df.columns:\n",
    "                df = df.rename(columns={opt: target})\n",
    "                break\n",
    "    return df\n",
    "\n",
    "def standardize_country_cols(df):\n",
    "    df = map_columns(df, {\n",
    "        \"iso3\": [\"iso_3_code\",\"iso3\",\"code\"],\n",
    "        \"country_name\": [\"country_name\",\"name\",\"country\"],\n",
    "        \"who_region\": [\"who_region\",\"region\"],\n",
    "        \"year\": [\"year\"]\n",
    "    })\n",
    "    if \"iso3\" in df: df[\"iso3\"] = df[\"iso3\"].astype(str).str.upper().str.strip()\n",
    "    if \"year\" in df: df[\"year\"] = as_int(df[\"year\"])\n",
    "    return df"
   ]
  },
  {
   "cell_type": "code",
   "execution_count": 7,
   "id": "f4ddae83-aee8-42cb-b437-aa84b5c7a962",
   "metadata": {},
   "outputs": [
    {
     "name": "stdout",
     "output_type": "stream",
     "text": [
      "Saved: D:\\Vaccination Project\\Vaccination project\\outputs\\coverage_clean.csv\n",
      "Saved: D:\\Vaccination Project\\Vaccination project\\outputs\\incidence_clean.csv\n",
      "Saved: D:\\Vaccination Project\\Vaccination project\\outputs\\reported_clean.csv\n",
      "Saved: D:\\Vaccination Project\\Vaccination project\\outputs\\vaccine_intro_clean.csv\n",
      "Saved: D:\\Vaccination Project\\Vaccination project\\outputs\\vaccine_schedule_clean.csv\n"
     ]
    }
   ],
   "source": [
    "raw = {k: read_first_sheet(p) for k,p in FILES.items()}\n",
    "\n",
    "cov = standardize_country_cols(raw[\"coverage\"])\n",
    "cov = map_columns(cov, {\n",
    "    \"antigen\": [\"antigen\",\"vaccine\"],\n",
    "    \"antigen_description\": [\"antigen_description\",\"vaccine_description\"],\n",
    "    \"coverage_category\": [\"coverage_category\",\"category\"],\n",
    "    \"coverage_category_description\": [\"coverage_category_description\",\"category_description\"],\n",
    "    \"target_number\": [\"target_number\",\"target_pop\"],\n",
    "    \"doses_administered\": [\"doses_administered\",\"doses\",\"dodge\"],\n",
    "    \"coverage_pct\": [\"coverage\",\"coverage_percent\"],\n",
    "})\n",
    "for c in [\"target_number\",\"doses_administered\",\"coverage_pct\"]:\n",
    "    if c in cov: cov[c] = as_num(cov[c])\n",
    "\n",
    "inc = standardize_country_cols(raw[\"incidence\"])\n",
    "inc = map_columns(inc, {\n",
    "    \"disease\": [\"disease\"],\n",
    "    \"disease_description\": [\"disease_description\"],\n",
    "    \"denominator\": [\"denominator\"],\n",
    "    \"incidence_rate\": [\"incidence_rate\",\"rate\"],\n",
    "})\n",
    "if \"incidence_rate\" in inc: inc[\"incidence_rate\"] = as_num(inc[\"incidence_rate\"])\n",
    "\n",
    "rep = standardize_country_cols(raw[\"reported\"])\n",
    "rep = map_columns(rep, {\n",
    "    \"disease\": [\"disease\"],\n",
    "    \"disease_description\": [\"disease_description\"],\n",
    "    \"cases\": [\"cases\",\"reported_cases\"],\n",
    "})\n",
    "if \"cases\" in rep: rep[\"cases\"] = as_num(rep[\"cases\"])\n",
    "\n",
    "intro = standardize_country_cols(raw[\"intro\"])\n",
    "intro = map_columns(intro, {\n",
    "    \"vaccine_description\": [\"description\",\"vaccine_description\"],\n",
    "    \"introduced\": [\"intro\",\"introduced\"],\n",
    "})\n",
    "if \"introduced\" in intro:\n",
    "    intro[\"introduced\"] = intro[\"introduced\"].apply(\n",
    "        lambda x: str(x).strip().lower() in {\"1\",\"true\",\"yes\",\"y\"} if pd.notna(x) else np.nan\n",
    "    )\n",
    "\n",
    "sched = standardize_country_cols(raw[\"schedule\"])\n",
    "sched = map_columns(sched, {\n",
    "    \"vaccine_code\": [\"vaccine_code\"],\n",
    "    \"vaccine_description\": [\"vaccine_description\"],\n",
    "    \"schedule_rounds\": [\"schedule_rounds\",\"dose\",\"round\"],\n",
    "    \"target_pop\": [\"target_pop\"],\n",
    "    \"geoarea\": [\"geoarea\"],\n",
    "    \"age_administered\": [\"age_administered\"],\n",
    "})\n",
    "\n",
    "tables = {\n",
    "    \"coverage_clean\": cov,\n",
    "    \"incidence_clean\": inc,\n",
    "    \"reported_clean\": rep,\n",
    "    \"vaccine_intro_clean\": intro,\n",
    "    \"vaccine_schedule_clean\": sched,\n",
    "}\n",
    "\n",
    "for name, df in tables.items():\n",
    "    out = os.path.join(OUT, f\"{name}.csv\")\n",
    "    df.to_csv(out, index=False)\n",
    "    print(\"Saved:\", out)"
   ]
  },
  {
   "cell_type": "code",
   "execution_count": 12,
   "id": "d9f44ce6-5f9d-4f2a-81f0-2a46d4a1c9b4",
   "metadata": {},
   "outputs": [
    {
     "name": "stdout",
     "output_type": "stream",
     "text": [
      "Loaded: coverage_clean\n",
      "Loaded: incidence_clean\n",
      "Loaded: reported_clean\n",
      "Loaded: vaccine_intro_clean\n",
      "Loaded: vaccine_schedule_clean\n",
      "SQLite DB created at: D:\\Vaccination Project\\Vaccination project\\outputs\\vaccination.db\n"
     ]
    }
   ],
   "source": [
    "import sqlite3\n",
    "\n",
    "DB = os.path.join(OUT, \"vaccination.db\")\n",
    "tables = [\"coverage_clean\",\"incidence_clean\",\"reported_clean\",\n",
    "          \"vaccine_intro_clean\",\"vaccine_schedule_clean\"]\n",
    "\n",
    "conn = sqlite3.connect(DB)\n",
    "\n",
    "for t in tables:\n",
    "    csv_path = os.path.join(OUT, f\"{t}.csv\")\n",
    "    if os.path.exists(csv_path):\n",
    "        df = pd.read_csv(csv_path, low_memory=False) \n",
    "        df.to_sql(t, conn, if_exists=\"replace\", index=False)\n",
    "        print(\"Loaded:\", t)\n",
    "    else:\n",
    "        print(\"Missing file:\", csv_path)\n",
    "\n",
    "conn.commit()\n",
    "conn.close()\n",
    "\n",
    "print(\"SQLite DB created at:\", DB)"
   ]
  },
  {
   "cell_type": "code",
   "execution_count": 13,
   "id": "ce21ecb4-4f40-46a5-92a1-6887b33231d9",
   "metadata": {},
   "outputs": [
    {
     "name": "stdout",
     "output_type": "stream",
     "text": [
      "       group iso3 country_name    year  antigen  \\\n",
      "0  COUNTRIES  ABW        Aruba  2023.0      BCG   \n",
      "1  COUNTRIES  ABW        Aruba  2023.0      BCG   \n",
      "2  COUNTRIES  ABW        Aruba  2023.0  DIPHCV4   \n",
      "3  COUNTRIES  ABW        Aruba  2023.0  DIPHCV4   \n",
      "4  COUNTRIES  ABW        Aruba  2023.0  DIPHCV5   \n",
      "\n",
      "                                 antigen_description coverage_category  \\\n",
      "0                                                BCG             ADMIN   \n",
      "1                                                BCG          OFFICIAL   \n",
      "2  Diphtheria-containing vaccine, 4th dose (1st b...             ADMIN   \n",
      "3  Diphtheria-containing vaccine, 4th dose (1st b...          OFFICIAL   \n",
      "4  Diphtheria-containing vaccine, 5th dose (2nd b...             ADMIN   \n",
      "\n",
      "  coverage_category_description  target_number  doses_administered  \\\n",
      "0       Administrative coverage            NaN                 NaN   \n",
      "1             Official coverage            NaN                 NaN   \n",
      "2       Administrative coverage         1044.0               945.0   \n",
      "3             Official coverage            NaN                 NaN   \n",
      "4       Administrative coverage         1219.0              1008.0   \n",
      "\n",
      "   coverage_pct  \n",
      "0           NaN  \n",
      "1           NaN  \n",
      "2         90.52  \n",
      "3         90.52  \n",
      "4         82.69  \n"
     ]
    }
   ],
   "source": [
    "conn = sqlite3.connect(DB)\n",
    "q = \"SELECT * FROM coverage_clean LIMIT 5;\"\n",
    "print(pd.read_sql(q, conn))\n",
    "conn.close()"
   ]
  },
  {
   "cell_type": "code",
   "execution_count": 14,
   "id": "a292de79-44dc-497c-822d-7faf6423caaa",
   "metadata": {},
   "outputs": [
    {
     "name": "stdout",
     "output_type": "stream",
     "text": [
      " Normalized tables created.\n"
     ]
    }
   ],
   "source": [
    "conn = sqlite3.connect(DB)\n",
    "cur = conn.cursor()\n",
    "\n",
    "tables = [\"schedule\",\"incidence\",\"disease\",\"vaccination\",\"antigen\",\"countries\"]\n",
    "for t in tables:\n",
    "    cur.execute(f\"DROP TABLE IF EXISTS {t};\")\n",
    "\n",
    "cur.execute(\"\"\"\n",
    "CREATE TABLE countries (\n",
    "    iso3 TEXT PRIMARY KEY,\n",
    "    country_name TEXT,\n",
    "    who_region TEXT\n",
    ");\n",
    "\"\"\")\n",
    "\n",
    "cur.execute(\"\"\"\n",
    "CREATE TABLE antigen (\n",
    "    antigen TEXT PRIMARY KEY,\n",
    "    antigen_description TEXT,\n",
    "    coverage_category TEXT\n",
    ");\n",
    "\"\"\")\n",
    "\n",
    "cur.execute(\"\"\"\n",
    "CREATE TABLE vaccination (\n",
    "    id INTEGER PRIMARY KEY AUTOINCREMENT,\n",
    "    iso3 TEXT,\n",
    "    year INTEGER,\n",
    "    antigen TEXT,\n",
    "    coverage_pct REAL,\n",
    "    doses_administered REAL,\n",
    "    FOREIGN KEY (iso3) REFERENCES countries(iso3),\n",
    "    FOREIGN KEY (antigen) REFERENCES antigen(antigen)\n",
    ");\n",
    "\"\"\")\n",
    "\n",
    "cur.execute(\"\"\"\n",
    "CREATE TABLE disease (\n",
    "    disease TEXT PRIMARY KEY,\n",
    "    disease_description TEXT\n",
    ");\n",
    "\"\"\")\n",
    "\n",
    "cur.execute(\"\"\"\n",
    "CREATE TABLE incidence (\n",
    "    id INTEGER PRIMARY KEY AUTOINCREMENT,\n",
    "    iso3 TEXT,\n",
    "    year INTEGER,\n",
    "    disease TEXT,\n",
    "    incidence_rate REAL,\n",
    "    cases REAL,\n",
    "    FOREIGN KEY (iso3) REFERENCES countries(iso3),\n",
    "    FOREIGN KEY (disease) REFERENCES disease(disease)\n",
    ");\n",
    "\"\"\")\n",
    "\n",
    "cur.execute(\"\"\"\n",
    "CREATE TABLE schedule (\n",
    "    id INTEGER PRIMARY KEY AUTOINCREMENT,\n",
    "    iso3 TEXT,\n",
    "    vaccine_description TEXT,\n",
    "    schedule_rounds TEXT,\n",
    "    age_administered TEXT,\n",
    "    FOREIGN KEY (iso3) REFERENCES countries(iso3)\n",
    ");\n",
    "\"\"\")\n",
    "\n",
    "conn.commit()\n",
    "conn.close()\n",
    "print(\" Normalized tables created.\")"
   ]
  },
  {
   "cell_type": "code",
   "execution_count": 18,
   "id": "45f3d311-6dfc-4837-8547-7ae5c4e78c9b",
   "metadata": {},
   "outputs": [
    {
     "name": "stdout",
     "output_type": "stream",
     "text": [
      "Countries, Antigen, and Vaccination tables have been populated successfully.\n"
     ]
    }
   ],
   "source": [
    "conn = sqlite3.connect(DB)\n",
    "\n",
    "conn.execute(\"\"\"\n",
    "INSERT OR IGNORE INTO countries (iso3, country_name)\n",
    "SELECT DISTINCT iso3, country_name \n",
    "FROM coverage_clean;\n",
    "\"\"\")\n",
    "\n",
    "conn.execute(\"\"\"\n",
    "INSERT OR IGNORE INTO antigen (antigen, antigen_description, coverage_category)\n",
    "SELECT DISTINCT antigen, antigen_description, coverage_category\n",
    "FROM coverage_clean;\n",
    "\"\"\")\n",
    "\n",
    "conn.execute(\"\"\"\n",
    "INSERT INTO vaccination (iso3, year, antigen, coverage_pct, doses_administered)\n",
    "SELECT iso3, year, antigen, coverage_pct, doses_administered\n",
    "FROM coverage_clean;\n",
    "\"\"\")\n",
    "\n",
    "conn.commit()\n",
    "conn.close()\n",
    "print(\"Countries, Antigen, and Vaccination tables have been populated successfully.\")"
   ]
  },
  {
   "cell_type": "code",
   "execution_count": 19,
   "id": "c32f3d51-1776-4674-b707-eb8a6c14a116",
   "metadata": {},
   "outputs": [
    {
     "name": "stdout",
     "output_type": "stream",
     "text": [
      "   cid                 name  type  notnull dflt_value  pk\n",
      "0    0                group  TEXT        0       None   0\n",
      "1    1                 iso3  TEXT        0       None   0\n",
      "2    2         country_name  TEXT        0       None   0\n",
      "3    3                 year  REAL        0       None   0\n",
      "4    4              disease  TEXT        0       None   0\n",
      "5    5  disease_description  TEXT        0       None   0\n",
      "6    6          denominator  TEXT        0       None   0\n",
      "7    7       incidence_rate  REAL        0       None   0\n"
     ]
    }
   ],
   "source": [
    "conn = sqlite3.connect(DB)\n",
    "print(pd.read_sql(\"PRAGMA table_info(incidence_clean);\", conn))\n",
    "conn.close()"
   ]
  },
  {
   "cell_type": "code",
   "execution_count": 20,
   "id": "802ce72c-b345-465a-b914-af7bed7a995c",
   "metadata": {},
   "outputs": [
    {
     "name": "stdout",
     "output_type": "stream",
     "text": [
      "   cid                 name  type  notnull dflt_value  pk\n",
      "0    0                group  TEXT        0       None   0\n",
      "1    1                 iso3  TEXT        0       None   0\n",
      "2    2         country_name  TEXT        0       None   0\n",
      "3    3                 year  REAL        0       None   0\n",
      "4    4              disease  TEXT        0       None   0\n",
      "5    5  disease_description  TEXT        0       None   0\n",
      "6    6                cases  REAL        0       None   0\n"
     ]
    }
   ],
   "source": [
    "conn = sqlite3.connect(DB)\n",
    "print(pd.read_sql(\"PRAGMA table_info(reported_clean);\", conn))\n",
    "conn.close()"
   ]
  },
  {
   "cell_type": "code",
   "execution_count": 21,
   "id": "f71fdb89-51c8-449b-b7cf-a37877655154",
   "metadata": {},
   "outputs": [
    {
     "name": "stdout",
     "output_type": "stream",
     "text": [
      " Incidence_clean data inserted (diseases + incidence).\n"
     ]
    }
   ],
   "source": [
    "conn = sqlite3.connect(DB)\n",
    "\n",
    "conn.execute(\"\"\"\n",
    "INSERT OR IGNORE INTO disease (disease, disease_description)\n",
    "SELECT DISTINCT disease, disease_description\n",
    "FROM incidence_clean;\n",
    "\"\"\")\n",
    "\n",
    "conn.execute(\"\"\"\n",
    "INSERT INTO incidence (iso3, year, disease, incidence_rate, cases)\n",
    "SELECT iso3, year, disease, incidence_rate, denominator\n",
    "FROM incidence_clean;\n",
    "\"\"\")\n",
    "\n",
    "conn.commit()\n",
    "conn.close()\n",
    "print(\" Incidence_clean data inserted (diseases + incidence).\")"
   ]
  },
  {
   "cell_type": "code",
   "execution_count": 22,
   "id": "3aaa594c-6e46-4974-8995-506513f923bb",
   "metadata": {},
   "outputs": [
    {
     "name": "stdout",
     "output_type": "stream",
     "text": [
      " Reported_clean data inserted (diseases + reported cases).\n"
     ]
    }
   ],
   "source": [
    "conn = sqlite3.connect(DB)\n",
    "\n",
    "conn.execute(\"\"\"\n",
    "INSERT OR IGNORE INTO disease (disease, disease_description)\n",
    "SELECT DISTINCT disease, disease_description\n",
    "FROM reported_clean;\n",
    "\"\"\")\n",
    "\n",
    "conn.execute(\"\"\"\n",
    "INSERT INTO incidence (iso3, year, disease, cases)\n",
    "SELECT iso3, year, disease, cases\n",
    "FROM reported_clean;\n",
    "\"\"\")\n",
    "\n",
    "conn.commit()\n",
    "conn.close()\n",
    "print(\" Reported_clean data inserted (diseases + reported cases).\")"
   ]
  },
  {
   "cell_type": "code",
   "execution_count": 5,
   "id": "0343d16f-17aa-4981-8233-f6a29d013b96",
   "metadata": {},
   "outputs": [
    {
     "name": "stdout",
     "output_type": "stream",
     "text": [
      "    cid                   name  type  notnull dflt_value  pk\n",
      "0     0                   iso3  TEXT        0       None   0\n",
      "1     1            countryname  TEXT        0       None   0\n",
      "2     2             who_region  TEXT        0       None   0\n",
      "3     3                   year  REAL        0       None   0\n",
      "4     4            vaccinecode  TEXT        0       None   0\n",
      "5     5    vaccine_description  TEXT        0       None   0\n",
      "6     6         schedulerounds  REAL        0       None   0\n",
      "7     7              targetpop  TEXT        0       None   0\n",
      "8     8  targetpop_description  TEXT        0       None   0\n",
      "9     9                geoarea  TEXT        0       None   0\n",
      "10   10        ageadministered  TEXT        0       None   0\n",
      "11   11          sourcecomment  TEXT        0       None   0\n"
     ]
    }
   ],
   "source": [
    "import sqlite3, pandas as pd\n",
    "\n",
    "conn = sqlite3.connect(DB)\n",
    "print(pd.read_sql(\"PRAGMA table_info(vaccine_schedule_clean);\", conn))\n",
    "conn.close()"
   ]
  },
  {
   "cell_type": "code",
   "execution_count": 8,
   "id": "6f933b35-5b03-4b06-ab00-823039319eef",
   "metadata": {
    "scrolled": true
   },
   "outputs": [
    {
     "name": "stdout",
     "output_type": "stream",
     "text": [
      "    cid                   name  type  notnull dflt_value  pk\n",
      "0     0                   iso3  TEXT        0       None   0\n",
      "1     1            countryname  TEXT        0       None   0\n",
      "2     2             who_region  TEXT        0       None   0\n",
      "3     3                   year  REAL        0       None   0\n",
      "4     4            vaccinecode  TEXT        0       None   0\n",
      "5     5    vaccine_description  TEXT        0       None   0\n",
      "6     6         schedulerounds  REAL        0       None   0\n",
      "7     7              targetpop  TEXT        0       None   0\n",
      "8     8  targetpop_description  TEXT        0       None   0\n",
      "9     9                geoarea  TEXT        0       None   0\n",
      "10   10        ageadministered  TEXT        0       None   0\n",
      "11   11          sourcecomment  TEXT        0       None   0\n",
      "  iso3 countryname who_region    year vaccinecode  \\\n",
      "0  ABW       Aruba       AMRO  2023.0  DTAPHIBIPV   \n",
      "1  ABW       Aruba       AMRO  2023.0  DTAPHIBIPV   \n",
      "2  ABW       Aruba       AMRO  2023.0  DTAPHIBIPV   \n",
      "3  ABW       Aruba       AMRO  2023.0  DTAPHIBIPV   \n",
      "4  ABW       Aruba       AMRO  2023.0     DTAPIPV   \n",
      "\n",
      "                vaccine_description  schedulerounds  targetpop  \\\n",
      "0  DTaP-Hib-IPV (acellular) vaccine             1.0       None   \n",
      "1  DTaP-Hib-IPV (acellular) vaccine             2.0       None   \n",
      "2  DTaP-Hib-IPV (acellular) vaccine             3.0       None   \n",
      "3  DTaP-Hib-IPV (acellular) vaccine             4.0    B_2YL_W   \n",
      "4      DTaP-IPV (acellular) vaccine             5.0  B_CHILD_W   \n",
      "\n",
      "  targetpop_description   geoarea ageadministered sourcecomment  \n",
      "0       General/routine  NATIONAL              M2          None  \n",
      "1       General/routine  NATIONAL              M4          None  \n",
      "2       General/routine  NATIONAL              M6          None  \n",
      "3       General/routine  NATIONAL             M15          None  \n",
      "4       General/routine  NATIONAL              Y4          None  \n"
     ]
    }
   ],
   "source": [
    "import sqlite3, pandas as pd\n",
    "\n",
    "conn = sqlite3.connect(DB)\n",
    "\n",
    "print(pd.read_sql(\"PRAGMA table_info(vaccine_schedule_clean);\", conn))\n",
    "\n",
    "print(pd.read_sql(\"SELECT * FROM vaccine_schedule_clean LIMIT 5;\", conn))\n",
    "\n",
    "conn.close()"
   ]
  },
  {
   "cell_type": "code",
   "execution_count": 9,
   "id": "d3dac0f1-6d1a-48e4-ba7e-39f37741cacf",
   "metadata": {},
   "outputs": [
    {
     "name": "stdout",
     "output_type": "stream",
     "text": [
      " Schedule table populated successfully.\n"
     ]
    }
   ],
   "source": [
    "import sqlite3\n",
    "\n",
    "conn = sqlite3.connect(DB)\n",
    "\n",
    "conn.execute(\"\"\"\n",
    "INSERT INTO schedule (iso3, vaccine_description, schedule_rounds, age_administered)\n",
    "SELECT iso3, vaccine_description, schedulerounds, ageadministered\n",
    "FROM vaccine_schedule_clean;\n",
    "\"\"\")\n",
    "\n",
    "conn.commit()\n",
    "conn.close()\n",
    "print(\" Schedule table populated successfully.\")"
   ]
  },
  {
   "cell_type": "code",
   "execution_count": 14,
   "id": "9aa093d4-3134-4903-839e-34dcbfb22333",
   "metadata": {},
   "outputs": [
    {
     "name": "stdout",
     "output_type": "stream",
     "text": [
      "            country_name    year antigen  avg_coverage\n",
      "0                   None     NaN    None           NaN\n",
      "1   China, Hong Kong SAR  1980.0     BCG    100.000000\n",
      "2                 Panama  1980.0     BCG     99.666667\n",
      "3               Barbados  1980.0    POL3     99.000000\n",
      "4                Belgium  1980.0    POL3     99.000000\n",
      "5      Brunei Darussalam  1980.0     BCG     99.000000\n",
      "6               Bulgaria  1980.0     BCG     99.000000\n",
      "7               Bulgaria  1980.0    POL3     99.000000\n",
      "8                   Cuba  1980.0     BCG     99.000000\n",
      "9                   Cuba  1980.0    POL3     99.000000\n",
      "10               Denmark  1980.0    POL3     99.000000\n",
      "11               Hungary  1980.0     BCG     99.000000\n",
      "12               Hungary  1980.0  DTPCV1     99.000000\n",
      "13               Hungary  1980.0  DTPCV3     99.000000\n",
      "14               Hungary  1980.0    MCV1     99.000000\n",
      "15               Iceland  1980.0  DTPCV1     99.000000\n",
      "16               Iceland  1980.0  DTPCV3     99.000000\n",
      "17               Iceland  1980.0    POL3     99.000000\n",
      "18                Malawi  1980.0     BCG     99.000000\n",
      "19                Sweden  1980.0  DTPCV1     99.000000\n"
     ]
    }
   ],
   "source": [
    "conn = sqlite3.connect(DB)\n",
    "q = \"\"\"\n",
    "SELECT country_name, year, antigen, AVG(coverage_pct) AS avg_coverage\n",
    "FROM vaccination v\n",
    "JOIN countries c ON v.iso3 = c.iso3\n",
    "GROUP BY country_name, year, antigen\n",
    "ORDER BY year, avg_coverage DESC\n",
    "LIMIT 20;\n",
    "\"\"\"\n",
    "print(pd.read_sql(q, conn))\n",
    "conn.close()"
   ]
  },
  {
   "cell_type": "code",
   "execution_count": 11,
   "id": "194e005d-d59a-4f17-8a2a-9246410e590d",
   "metadata": {},
   "outputs": [
    {
     "name": "stdout",
     "output_type": "stream",
     "text": [
      "     country_name  year  disease  total_cases\n",
      "0          Global  2023  TYPHOID    4583555.0\n",
      "1          Global  1981  MEASLES    4078455.0\n",
      "2          Global  1980  MEASLES    3852242.0\n",
      "3  African Region  2023  TYPHOID    3635591.0\n",
      "4          Global  1982  MEASLES    3623758.0\n",
      "5          Global  1983  MEASLES    3586101.0\n",
      "6          Global  1984  MEASLES    3026973.0\n",
      "7          Global  2022  TYPHOID    2897152.0\n",
      "8          Global  1985  MEASLES    2819553.0\n",
      "9  African Region  2022  TYPHOID    2478436.0\n"
     ]
    }
   ],
   "source": [
    "conn = sqlite3.connect(DB)\n",
    "q = \"\"\"\n",
    "SELECT c.country_name, i.year, i.disease, SUM(i.cases) AS total_cases\n",
    "FROM incidence i\n",
    "JOIN countries c ON i.iso3 = c.iso3\n",
    "WHERE i.cases IS NOT NULL\n",
    "GROUP BY c.country_name, i.year, i.disease\n",
    "ORDER BY total_cases DESC\n",
    "LIMIT 10;\n",
    "\"\"\"\n",
    "print(pd.read_sql(q, conn))\n",
    "conn.close()"
   ]
  },
  {
   "cell_type": "code",
   "execution_count": 12,
   "id": "4896f506-c40f-4ccc-894d-6018b287c35a",
   "metadata": {},
   "outputs": [
    {
     "name": "stdout",
     "output_type": "stream",
     "text": [
      "      year       antigen  avg_coverage  avg_incidence\n",
      "0     1980           BCG     54.111465     837.201511\n",
      "1     1980        DTPCV1     63.396368     750.091502\n",
      "2     1980        DTPCV3     45.304020     812.017859\n",
      "3     1980         HEPB3           NaN     801.615945\n",
      "4     1980          HIB3           NaN     801.615945\n",
      "...    ...           ...           ...            ...\n",
      "1103  2023         TTCV5     79.129577      80.068095\n",
      "1104  2023         TTCV6     77.754335      80.068095\n",
      "1105  2023  TYPHOID_CONJ     72.711094      80.068095\n",
      "1106  2023          VAD1    122.384377      80.068095\n",
      "1107  2023           YFV     71.091431      94.114923\n",
      "\n",
      "[1108 rows x 4 columns]\n"
     ]
    }
   ],
   "source": [
    "conn = sqlite3.connect(DB)\n",
    "q = \"\"\"\n",
    "SELECT v.year, v.antigen, \n",
    "       AVG(v.coverage_pct) AS avg_coverage, \n",
    "       AVG(i.incidence_rate) AS avg_incidence\n",
    "FROM vaccination v\n",
    "JOIN incidence i ON v.iso3 = i.iso3 AND v.year = i.year\n",
    "GROUP BY v.year, v.antigen\n",
    "ORDER BY v.year;\n",
    "\"\"\"\n",
    "print(pd.read_sql(q, conn))\n",
    "conn.close()"
   ]
  },
  {
   "cell_type": "code",
   "execution_count": 13,
   "id": "9fc44fb2-f09d-4237-bc40-10fd8d255639",
   "metadata": {},
   "outputs": [
    {
     "name": "stdout",
     "output_type": "stream",
     "text": [
      "      country_name  year  coverage_pct\n",
      "0          Algeria  2023         98.73\n",
      "1          Algeria  2023         99.00\n",
      "2          Algeria  2023         98.73\n",
      "3          Algeria  2023         99.00\n",
      "4          Andorra  2023         99.00\n",
      "...            ...   ...           ...\n",
      "13701      Hungary  1980         99.00\n",
      "13702      Hungary  1980         99.00\n",
      "13703      Hungary  1980         99.00\n",
      "13704      Hungary  1980         99.00\n",
      "13705      Hungary  1980         99.00\n",
      "\n",
      "[13706 rows x 3 columns]\n"
     ]
    }
   ],
   "source": [
    "conn = sqlite3.connect(DB)\n",
    "q = \"\"\"\n",
    "SELECT c.country_name, v.year, v.coverage_pct\n",
    "FROM vaccination v\n",
    "JOIN countries c ON v.iso3 = c.iso3\n",
    "WHERE v.antigen = 'MCV1' AND v.coverage_pct >= 95\n",
    "ORDER BY v.year DESC, c.country_name;\n",
    "\"\"\"\n",
    "print(pd.read_sql(q, conn))\n",
    "conn.close()"
   ]
  },
  {
   "cell_type": "code",
   "execution_count": null,
   "id": "ff32c7c1-0308-494a-b270-b5c4f91301f5",
   "metadata": {},
   "outputs": [],
   "source": []
  }
 ],
 "metadata": {
  "kernelspec": {
   "display_name": "Python 3 (ipykernel)",
   "language": "python",
   "name": "python3"
  },
  "language_info": {
   "codemirror_mode": {
    "name": "ipython",
    "version": 3
   },
   "file_extension": ".py",
   "mimetype": "text/x-python",
   "name": "python",
   "nbconvert_exporter": "python",
   "pygments_lexer": "ipython3",
   "version": "3.12.4"
  }
 },
 "nbformat": 4,
 "nbformat_minor": 5
}
